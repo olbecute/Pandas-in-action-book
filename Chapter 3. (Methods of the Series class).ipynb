{
 "cells": [
  {
   "cell_type": "markdown",
   "id": "66271daf",
   "metadata": {},
   "source": [
    "## Глава 3. Методы класса Series\n",
    "\n",
    "Файлы CSV представляют собой открытый текст, в котором строки данных разделяются символом переноса строк, а значения внутри строк - запятыми. Первая стргока содержит названия столбцов\n",
    "\n",
    "Для импорта файлов CSV используется функция **read_scv**, которая всегда испортирует данные в объект DataFrame - двумерную структуру данных pandas, то есть несколько строк и столбцов.  Так как мы в данной главе работаем с объектом *Series*, то сохраним DataFrame в меньшей по размеру структуре данных.\n",
    "\n",
    "**filepath_or_buffer** - первый параметр функции, куда передается имя файла (можно не прописывать)\n",
    "\n",
    "*Первая проблема:* набор данных включает два столбца (Pokemon и Type), но *Series поддерживает только один столбец данных*.\n",
    "\n",
    "*Простейшее решение* — сделать из одного из столбцов данных индекс Series. Для задания столбца индекса можно воспользоваться параметром **index_col**. Не забудьте о чувствительности к регистру: строковое значение должно совпадать с заголовком в наборе данных. \n",
    "\n",
    "Параметр **squeeze** приводит к использованию Series вместо DataFrame."
   ]
  },
  {
   "cell_type": "code",
   "execution_count": 4,
   "id": "f09b5dd5",
   "metadata": {},
   "outputs": [],
   "source": [
    "import pandas as pd"
   ]
  },
  {
   "cell_type": "code",
   "execution_count": 5,
   "id": "6c2d6177",
   "metadata": {},
   "outputs": [
    {
     "name": "stderr",
     "output_type": "stream",
     "text": [
      "C:\\Users\\Евгений\\AppData\\Local\\Temp\\ipykernel_7980\\2294496393.py:5: FutureWarning: The squeeze argument has been deprecated and will be removed in a future version. Append .squeeze(\"columns\") to the call to squeeze.\n",
      "\n",
      "\n",
      "  pokemon = pd.read_csv('pokemon.csv', index_col = 'Pokemon', squeeze = True)\n"
     ]
    },
    {
     "data": {
      "text/plain": [
       "Pokemon\n",
       "Bulbasaur     Grass / Poison\n",
       "Ivysaur       Grass / Poison\n",
       "Venusaur      Grass / Poison\n",
       "Charmander              Fire\n",
       "Charmeleon              Fire\n",
       "Name: Type, dtype: object"
      ]
     },
     "execution_count": 5,
     "metadata": {},
     "output_type": "execute_result"
    }
   ],
   "source": [
    "# Импортируем файл со списком покемонов и их типами: вода, огонь, трава\n",
    "# Передадим строковое значение \"Pokemon\" в качестве аргумента параметра index_col\n",
    "# Также присвоим объект переменной\n",
    "\n",
    "pokemon = pd.read_csv('pokemon.csv', index_col = 'Pokemon', squeeze = True)\n",
    "pokemon.head()"
   ]
  },
  {
   "cell_type": "markdown",
   "id": "2024e1f8",
   "metadata": {},
   "source": [
    "При импорте данных из файла *\"google_stocks.csv\"* обратим внимание на столбец *Data* со значениями даты/времени в формате *YYYY-MM-DD*. Можно явным образом указать обработку данного столбца из типа строки в метку даты/времени.\n",
    "\n",
    "Параметр **parse_dates** позволяет задать список строковых значений в формат даты/времени"
   ]
  },
  {
   "cell_type": "code",
   "execution_count": 6,
   "id": "707e55e3",
   "metadata": {},
   "outputs": [
    {
     "name": "stderr",
     "output_type": "stream",
     "text": [
      "C:\\Users\\Евгений\\AppData\\Local\\Temp\\ipykernel_7980\\2644992740.py:4: FutureWarning: The squeeze argument has been deprecated and will be removed in a future version. Append .squeeze(\"columns\") to the call to squeeze.\n",
      "\n",
      "\n",
      "  google = pd.read_csv(\n"
     ]
    },
    {
     "data": {
      "text/plain": [
       "Date\n",
       "2004-08-19      49.98\n",
       "2004-08-20      53.95\n",
       "2004-08-23      54.50\n",
       "2004-08-24      52.24\n",
       "2004-08-25      52.80\n",
       "               ...   \n",
       "2019-10-21    1246.15\n",
       "2019-10-22    1242.80\n",
       "2019-10-23    1259.13\n",
       "2019-10-24    1260.99\n",
       "2019-10-25    1265.13\n",
       "Name: Close, Length: 3824, dtype: float64"
      ]
     },
     "execution_count": 6,
     "metadata": {},
     "output_type": "execute_result"
    }
   ],
   "source": [
    "# Аналогично добавим еще два файла с данными\n",
    "# Набор ежедневных курсов акций в долларах США для Google\n",
    "\n",
    "google = pd.read_csv(\n",
    "    \"google_stocks.csv\",\n",
    "    parse_dates = [\"Date\"],\n",
    "    index_col = \"Date\",\n",
    "    squeeze = True\n",
    ")\n",
    "google"
   ]
  },
  {
   "cell_type": "markdown",
   "id": "e36a56c1",
   "metadata": {},
   "source": [
    "Для файла *\"revolutionary_war.csv\"* сделаем столбец *Start Date* индексом.\n",
    "\n",
    "С помощью параметра **usecols** функции *read_csv* можно указать список импортируемых библиотекой pandas столбцов. Включим в него только Start Date и State"
   ]
  },
  {
   "cell_type": "code",
   "execution_count": 7,
   "id": "199820f8",
   "metadata": {},
   "outputs": [
    {
     "name": "stderr",
     "output_type": "stream",
     "text": [
      "C:\\Users\\Евгений\\AppData\\Local\\Temp\\ipykernel_7980\\3633249326.py:3: FutureWarning: The squeeze argument has been deprecated and will be removed in a future version. Append .squeeze(\"columns\") to the call to squeeze.\n",
      "\n",
      "\n",
      "  battles = pd.read_csv(\n"
     ]
    },
    {
     "data": {
      "text/plain": [
       "Start Date\n",
       "1774-09-01    Massachusetts\n",
       "1774-12-14    New Hampshire\n",
       "1775-04-19    Massachusetts\n",
       "1775-04-19    Massachusetts\n",
       "1775-04-20         Virginia\n",
       "                  ...      \n",
       "1782-09-11         Virginia\n",
       "1782-09-13              NaN\n",
       "1782-10-18              NaN\n",
       "1782-12-06              NaN\n",
       "1783-01-22         Virginia\n",
       "Name: State, Length: 232, dtype: object"
      ]
     },
     "execution_count": 7,
     "metadata": {},
     "output_type": "execute_result"
    }
   ],
   "source": [
    "# список битв периода Войны за независимость СШA\n",
    "\n",
    "battles = pd.read_csv(\n",
    "    \"revolutionary_war.csv\",\n",
    "    index_col = \"Start Date\",\n",
    "    parse_dates = [\"Start Date\"],\n",
    "    usecols = [\"State\", \"Start Date\"],\n",
    "    squeeze = True\n",
    ")\n",
    "battles"
   ]
  },
  {
   "cell_type": "markdown",
   "id": "cb971bd7",
   "metadata": {},
   "source": [
    "**.sort_value** - возвращает *новый объект* с отсортированными в порядке возрастания значениями. \n",
    "\n",
    "В порядке возрастания = от начала алфавита к его концу, от заглавной буквы к строчной.\n",
    "\n",
    "**.sort_value(ascending = False)** - сортировка в порядке убывания.\n",
    "\n",
    "**.sort_value(na_position = 'last')** - параметр определяет размещение значения *NaN* и помещает его в конец сортируемого списка. По умолчанию задано значение 'last'.\n",
    "\n",
    "**.sort_value(na_position = 'first')** - выводит сначала значения *NaN*.\n",
    "\n",
    "**dropna()** - возвращает объект Series, из которого удалены все отсутствующие значения."
   ]
  },
  {
   "cell_type": "code",
   "execution_count": 8,
   "id": "b6a56075",
   "metadata": {},
   "outputs": [
    {
     "data": {
      "text/plain": [
       "Pokemon\n",
       "Illumise                Bug\n",
       "Silcoon                 Bug\n",
       "Pinsir                  Bug\n",
       "Burmy                   Bug\n",
       "Wurmple                 Bug\n",
       "                  ...      \n",
       "Tirtouga       Water / Rock\n",
       "Relicanth      Water / Rock\n",
       "Corsola        Water / Rock\n",
       "Carracosta     Water / Rock\n",
       "Empoleon      Water / Steel\n",
       "Name: Type, Length: 809, dtype: object"
      ]
     },
     "execution_count": 8,
     "metadata": {},
     "output_type": "execute_result"
    }
   ],
   "source": [
    "pokemon.sort_values()"
   ]
  },
  {
   "cell_type": "code",
   "execution_count": 9,
   "id": "f25e1dd6",
   "metadata": {},
   "outputs": [
    {
     "data": {
      "text/plain": [
       "4       1\n",
       "5      10\n",
       "6       2\n",
       "0     Ann\n",
       "2    Zack\n",
       "1     ann\n",
       "3    zack\n",
       "dtype: object"
      ]
     },
     "execution_count": 9,
     "metadata": {},
     "output_type": "execute_result"
    }
   ],
   "source": [
    "# Пример сортировки разных типов строк\n",
    "\n",
    "pd.Series(data = ['Ann', 'ann', 'Zack', 'zack', '1', '10', '2']).sort_values()"
   ]
  },
  {
   "cell_type": "code",
   "execution_count": 10,
   "id": "2e0547be",
   "metadata": {},
   "outputs": [
    {
     "data": {
      "text/plain": [
       "Start Date\n",
       "1781-09-06    Connecticut\n",
       "1779-07-05    Connecticut\n",
       "1777-04-27    Connecticut\n",
       "1777-09-03       Delaware\n",
       "1777-05-17        Florida\n",
       "                 ...     \n",
       "1782-08-08            NaN\n",
       "1782-08-25            NaN\n",
       "1782-09-13            NaN\n",
       "1782-10-18            NaN\n",
       "1782-12-06            NaN\n",
       "Name: State, Length: 232, dtype: object"
      ]
     },
     "execution_count": 10,
     "metadata": {},
     "output_type": "execute_result"
    }
   ],
   "source": [
    "# battles.sort_values() аналогично:\n",
    "\n",
    "battles.sort_values(na_position = \"last\")"
   ]
  },
  {
   "cell_type": "code",
   "execution_count": 11,
   "id": "033aab28",
   "metadata": {},
   "outputs": [
    {
     "data": {
      "text/plain": [
       "Start Date\n",
       "1775-09-17         NaN\n",
       "1775-12-31         NaN\n",
       "1776-03-03         NaN\n",
       "1776-03-25         NaN\n",
       "1776-05-18         NaN\n",
       "                ...   \n",
       "1781-07-06    Virginia\n",
       "1781-07-01    Virginia\n",
       "1781-06-26    Virginia\n",
       "1781-04-25    Virginia\n",
       "1783-01-22    Virginia\n",
       "Name: State, Length: 232, dtype: object"
      ]
     },
     "execution_count": 11,
     "metadata": {},
     "output_type": "execute_result"
    }
   ],
   "source": [
    "battles.sort_values(na_position = \"first\")"
   ]
  },
  {
   "cell_type": "code",
   "execution_count": 12,
   "id": "fdf4c872",
   "metadata": {},
   "outputs": [
    {
     "data": {
      "text/plain": [
       "Start Date\n",
       "1781-09-06    Connecticut\n",
       "1779-07-05    Connecticut\n",
       "1777-04-27    Connecticut\n",
       "1777-09-03       Delaware\n",
       "1777-05-17        Florida\n",
       "                 ...     \n",
       "1781-07-06       Virginia\n",
       "1781-07-01       Virginia\n",
       "1781-06-26       Virginia\n",
       "1781-04-25       Virginia\n",
       "1783-01-22       Virginia\n",
       "Name: State, Length: 162, dtype: object"
      ]
     },
     "execution_count": 12,
     "metadata": {},
     "output_type": "execute_result"
    }
   ],
   "source": [
    "# Обратим внимание, что значений стало меньше\n",
    "\n",
    "battles.dropna().sort_values()"
   ]
  },
  {
   "cell_type": "markdown",
   "id": "87cfca85",
   "metadata": {},
   "source": [
    "**sort_index()** - сортировка по индексам. Метод принимает параметры *ascending*, *na_position*\n"
   ]
  },
  {
   "cell_type": "code",
   "execution_count": 13,
   "id": "8f88507e",
   "metadata": {},
   "outputs": [
    {
     "data": {
      "text/plain": [
       "Pokemon\n",
       "Abomasnow        Grass / Ice\n",
       "Abra                 Psychic\n",
       "Absol                   Dark\n",
       "Accelgor                 Bug\n",
       "Aegislash      Steel / Ghost\n",
       "                  ...       \n",
       "Zoroark                 Dark\n",
       "Zorua                   Dark\n",
       "Zubat        Poison / Flying\n",
       "Zweilous       Dark / Dragon\n",
       "Zygarde      Dragon / Ground\n",
       "Name: Type, Length: 809, dtype: object"
      ]
     },
     "execution_count": 13,
     "metadata": {},
     "output_type": "execute_result"
    }
   ],
   "source": [
    "# pokemon.sort_index() аналогично:\n",
    "\n",
    "pokemon.sort_index(ascending = True)"
   ]
  },
  {
   "cell_type": "code",
   "execution_count": 14,
   "id": "2e6b7630",
   "metadata": {},
   "outputs": [
    {
     "data": {
      "text/plain": [
       "Start Date\n",
       "NaT              New Jersey\n",
       "NaT                Virginia\n",
       "NaT                     NaN\n",
       "NaT                     NaN\n",
       "1774-09-01    Massachusetts\n",
       "Name: State, dtype: object"
      ]
     },
     "execution_count": 14,
     "metadata": {},
     "output_type": "execute_result"
    }
   ],
   "source": [
    "battles.sort_index(na_position = \"first\").head()"
   ]
  },
  {
   "cell_type": "markdown",
   "id": "388617ee",
   "metadata": {},
   "source": [
    "**.nlargest(n = n)** - возвращает максимальные значения из объекта Series.\n",
    "\n",
    "**.nsmallest(n = n)** - возвращает минимальные значения объекта Series, отсортированные в порядке возрастания.\n",
    "\n",
    "**n** - число записей\n",
    "\n",
    "**!** Ни один из этих методов не работает для объектов Series со строковыми значениями."
   ]
  },
  {
   "cell_type": "code",
   "execution_count": 15,
   "id": "9f679466",
   "metadata": {},
   "outputs": [
    {
     "data": {
      "text/plain": [
       "Date\n",
       "2004-09-03    49.82\n",
       "2004-09-01    49.94\n",
       "2004-08-19    49.98\n",
       "2004-09-02    50.57\n",
       "2004-09-07    50.60\n",
       "Name: Close, dtype: float64"
      ]
     },
     "execution_count": 15,
     "metadata": {},
     "output_type": "execute_result"
    }
   ],
   "source": [
    "# google.nsmallest(5) аналогично:\n",
    "\n",
    "google.nsmallest(n = 5)"
   ]
  },
  {
   "cell_type": "markdown",
   "id": "135c5cc1",
   "metadata": {},
   "source": [
    "*Перезапись объекта Series:*\n",
    "\n",
    "**.sort_values(inplace = True)** - данный метод позволяет модифицировать объект, для которого вызван метод. У него есть одна особенностьЖ он предполагает модификацию/изменение уже существующего объекта вместо создания копии. Это сокращает количество копий, также расходует меньшее количество памяти\n",
    "\n",
    "**.value_counts()** - подсчитывающий количество вхождений каждого значения объекта Series. Он возвращает новый объект. К данному методу можно применить параметр *ascending*, который по умолчанию *True*. Аналогично, параметр *normalize*.\n",
    "\n",
    "**value_counts(bins = buckets)** - с данным параметром можно описать интервал группировки в виде значений в списке и сгруппировать по нему объект Series."
   ]
  },
  {
   "cell_type": "code",
   "execution_count": 17,
   "id": "dbc82490",
   "metadata": {},
   "outputs": [
    {
     "data": {
      "text/plain": [
       "Start Date\n",
       "1781-09-06    Connecticut\n",
       "1779-07-05    Connecticut\n",
       "1777-04-27    Connecticut\n",
       "Name: State, dtype: object"
      ]
     },
     "execution_count": 17,
     "metadata": {},
     "output_type": "execute_result"
    }
   ],
   "source": [
    "battles.sort_values(inplace = True)\n",
    "battles.head(3)"
   ]
  },
  {
   "cell_type": "code",
   "execution_count": 18,
   "id": "94ca3c2d",
   "metadata": {},
   "outputs": [
    {
     "data": {
      "text/plain": [
       "Normal                65\n",
       "Water                 61\n",
       "Grass                 38\n",
       "Psychic               35\n",
       "Fire                  30\n",
       "                      ..\n",
       "Fire / Psychic         1\n",
       "Normal / Ground        1\n",
       "Psychic / Fighting     1\n",
       "Dark / Ghost           1\n",
       "Fire / Ghost           1\n",
       "Name: Type, Length: 159, dtype: int64"
      ]
     },
     "execution_count": 18,
     "metadata": {},
     "output_type": "execute_result"
    }
   ],
   "source": [
    "pokemon.value_counts()"
   ]
  },
  {
   "cell_type": "code",
   "execution_count": 19,
   "id": "5bf4d220",
   "metadata": {},
   "outputs": [
    {
     "data": {
      "text/plain": [
       "Normal                8.03\n",
       "Water                 7.54\n",
       "Grass                 4.70\n",
       "Psychic               4.33\n",
       "Fire                  3.71\n",
       "                      ... \n",
       "Fire / Psychic        0.12\n",
       "Normal / Ground       0.12\n",
       "Psychic / Fighting    0.12\n",
       "Dark / Ghost          0.12\n",
       "Fire / Ghost          0.12\n",
       "Name: Type, Length: 159, dtype: float64"
      ]
     },
     "execution_count": 19,
     "metadata": {},
     "output_type": "execute_result"
    }
   ],
   "source": [
    "# Можно домножить значения и округлить их\n",
    "\n",
    "(pokemon.value_counts(normalize = True) * 100).round(2)"
   ]
  },
  {
   "cell_type": "code",
   "execution_count": 20,
   "id": "7f06b9ce",
   "metadata": {},
   "outputs": [
    {
     "data": {
      "text/plain": [
       "(200.0, 400.0]      1568\n",
       "(-0.001, 200.0]      595\n",
       "(400.0, 600.0]       575\n",
       "(1000.0, 1200.0]     406\n",
       "(600.0, 800.0]       380\n",
       "(800.0, 1000.0]      207\n",
       "(1200.0, 1400.0]      93\n",
       "Name: Close, dtype: int64"
      ]
     },
     "execution_count": 20,
     "metadata": {},
     "output_type": "execute_result"
    }
   ],
   "source": [
    "buckets = [0, 200, 400, 600, 800, 1000, 1200, 1400]\n",
    "google.value_counts(bins = buckets)"
   ]
  },
  {
   "cell_type": "code",
   "execution_count": 21,
   "id": "307535a7",
   "metadata": {},
   "outputs": [
    {
     "data": {
      "text/plain": [
       "(-0.001, 200.0]      595\n",
       "(200.0, 400.0]      1568\n",
       "(400.0, 600.0]       575\n",
       "(600.0, 800.0]       380\n",
       "(800.0, 1000.0]      207\n",
       "(1000.0, 1200.0]     406\n",
       "(1200.0, 1400.0]      93\n",
       "Name: Close, dtype: int64"
      ]
     },
     "execution_count": 21,
     "metadata": {},
     "output_type": "execute_result"
    }
   ],
   "source": [
    "# Цепочка вызовов методов - методика последовательного вызова нескольких методов\n",
    "\n",
    "google.value_counts(bins = buckets).sort_index()"
   ]
  },
  {
   "cell_type": "markdown",
   "id": "0beee08c",
   "metadata": {},
   "source": [
    "*Интервалы:*\n",
    "\n",
    "* круглая скобка означает, что значение не включается в интервал;\n",
    "* квадратная скобка означает, что значение включается в интервал.\n",
    "\n",
    "* Замкнутый интервал (closed interval) включает обе граничные точки\n",
    "* Открытый интервал (open interval) не включает ни одной из граничных точек\n",
    "* Полуоткрытый интервал, включает одну из граничных точек и не включает другую\n",
    "\n",
    "Параметр **bins** метода *value_counts* также принимает целочисленный аргумент"
   ]
  },
  {
   "cell_type": "code",
   "execution_count": 22,
   "id": "cedc1b0d",
   "metadata": {},
   "outputs": [
    {
     "data": {
      "text/plain": [
       "(48.581, 256.113]      1204\n",
       "(256.113, 462.407]     1104\n",
       "(462.407, 668.7]        507\n",
       "(668.7, 874.993]        380\n",
       "(874.993, 1081.287]     292\n",
       "(1081.287, 1287.58]     337\n",
       "Name: Close, dtype: int64"
      ]
     },
     "execution_count": 22,
     "metadata": {},
     "output_type": "execute_result"
    }
   ],
   "source": [
    "google.value_counts(bins = 6, sort = False)"
   ]
  },
  {
   "cell_type": "code",
   "execution_count": 23,
   "id": "fcd8b130",
   "metadata": {},
   "outputs": [
    {
     "data": {
      "text/plain": [
       "South Carolina    31\n",
       "New York          28\n",
       "New Jersey        24\n",
       "Virginia          21\n",
       "Massachusetts     11\n",
       "Name: State, dtype: int64"
      ]
     },
     "execution_count": 23,
     "metadata": {},
     "output_type": "execute_result"
    }
   ],
   "source": [
    "# Можно с помощью метода value_counts выяснить, \n",
    "# в каких штатах проходило наибольшее число битв в ходе Войны за независимость США:\n",
    "\n",
    "battles.value_counts().head()"
   ]
  },
  {
   "cell_type": "code",
   "execution_count": 24,
   "id": "772cb9f4",
   "metadata": {},
   "outputs": [
    {
     "data": {
      "text/plain": [
       "DatetimeIndex(['1781-09-06', '1779-07-05', '1777-04-27', '1777-09-03',\n",
       "               '1777-05-17', '1779-09-10', '1779-09-07', '1780-03-02',\n",
       "               '1778-06-30', '1781-01-07',\n",
       "               ...\n",
       "               '1782-05-06', '1782-05-25', '1782-05-28', '1782-07-01',\n",
       "               '1782-07-06', '1782-08-08', '1782-08-25', '1782-09-13',\n",
       "               '1782-10-18', '1782-12-06'],\n",
       "              dtype='datetime64[ns]', name='Start Date', length=232, freq=None)"
      ]
     },
     "execution_count": 24,
     "metadata": {},
     "output_type": "execute_result"
    }
   ],
   "source": [
    "# Выясним, на какие даты приходилось максимальное количество битв во время Войны за независимость США\n",
    "\n",
    "battles.index"
   ]
  },
  {
   "cell_type": "code",
   "execution_count": 25,
   "id": "ea58e2b6",
   "metadata": {},
   "outputs": [
    {
     "data": {
      "text/plain": [
       "1781-04-25    2\n",
       "1781-04-15    2\n",
       "1777-08-22    2\n",
       "1782-01-11    2\n",
       "1775-04-19    2\n",
       "             ..\n",
       "1776-09-16    1\n",
       "1781-10-25    1\n",
       "1777-07-08    1\n",
       "1779-07-22    1\n",
       "1782-12-06    1\n",
       "Name: Start Date, Length: 217, dtype: int64"
      ]
     },
     "execution_count": 25,
     "metadata": {},
     "output_type": "execute_result"
    }
   ],
   "source": [
    "battles.index.value_counts()"
   ]
  },
  {
   "cell_type": "markdown",
   "id": "b4e5c2aa",
   "metadata": {},
   "source": [
    "**Функция** - объект первого класса, то есть язык обрабатывыает их, как любой другой тип данных. всё, что можно сделать с числом, можно сделать с функцией:\n",
    "\n",
    "* хранить функцию в списке;\n",
    "* присваивать ключу словаря функцию в качестве значения;\n",
    "* передавать одну функцию в другую в качестве аргумента;\n",
    "* возвращать одну функцию из другой;\n",
    "\n",
    "**Функция** — это последовательность инструкций, генерирующих какой-либо результат.\n",
    "\n",
    "**Вызов функции (function invocation)** — это само выполнение инструкций"
   ]
  },
  {
   "cell_type": "code",
   "execution_count": 26,
   "id": "075e9720",
   "metadata": {},
   "outputs": [
    {
     "name": "stdout",
     "output_type": "stream",
     "text": [
      "3824\n",
      "1287.58\n",
      "49.82\n"
     ]
    }
   ],
   "source": [
    "funcs = [len, max, min]\n",
    "\n",
    "for func in funcs:\n",
    "    print(func(google))"
   ]
  }
 ],
 "metadata": {
  "kernelspec": {
   "display_name": "Python 3 (ipykernel)",
   "language": "python",
   "name": "python3"
  },
  "language_info": {
   "codemirror_mode": {
    "name": "ipython",
    "version": 3
   },
   "file_extension": ".py",
   "mimetype": "text/x-python",
   "name": "python",
   "nbconvert_exporter": "python",
   "pygments_lexer": "ipython3",
   "version": "3.11.5"
  }
 },
 "nbformat": 4,
 "nbformat_minor": 5
}
